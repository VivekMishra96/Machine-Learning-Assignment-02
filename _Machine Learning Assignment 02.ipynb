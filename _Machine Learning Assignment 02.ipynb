{
 "cells": [
  {
   "cell_type": "code",
   "execution_count": null,
   "id": "1efb7283",
   "metadata": {},
   "outputs": [],
   "source": [
    "1.What is the concept of human learning? Please give two examples ?"
   ]
  },
  {
   "cell_type": "markdown",
   "id": "9a3c2663",
   "metadata": {},
   "source": [
    "#ans.\n",
    "Human learning is the form of learning which requires higher order mental processes like thinking, reasoning, intelligence, etc.We learn different concepts from childhood. For example:\n",
    "\n",
    "Learning through Association - Classical Conditioning.\n",
    "Learning through consequences – Operant Conditioning.\n",
    "Learning through observation – Modeling/Observational Learning.\n"
   ]
  },
  {
   "cell_type": "code",
   "execution_count": null,
   "id": "62ec6b5c",
   "metadata": {},
   "outputs": [],
   "source": [
    "2. What different forms of human learning are there? Are there any machine learning equivalents ?"
   ]
  },
  {
   "cell_type": "markdown",
   "id": "58bdedd3",
   "metadata": {},
   "source": [
    "#ans.\n",
    "Different Forms of ML are as follows :\n",
    "\n",
    "Artificial Intelligence Learning Theories. Machine Learning. Reinforcement Learning. Supervised Learning. Unsupervised Learning.\n",
    "ML equivalents like Linear regression, decision trees, random forest and support vector machines are some commonly used techniques that are actually examples of supervised learning."
   ]
  },
  {
   "cell_type": "code",
   "execution_count": null,
   "id": "f0c7dc71",
   "metadata": {},
   "outputs": [],
   "source": [
    "3. What is machine learning, and how does it work? What are the key responsibilities of machine learning ?"
   ]
  },
  {
   "cell_type": "markdown",
   "id": "efaa55b7",
   "metadata": {},
   "source": [
    "#ans.\n",
    "Machine learning is a branch of Artificial intelligence (AI) that teaches computers on how to think in a similar way to how humans do, like by Learning and improving upon past experiences.\n",
    "\n",
    "It works by exploring data and identifying patterns, and involves minimal human intervention.\n",
    "Roles and responsibilities of a machine learning engineer are:\n",
    "\n",
    "Designing ML systems.\n",
    "Researching and implementing ML algorithms and tools. Selecting appropriate data sets.\n",
    "Picking appropriate data representation methods. Identifying differences in data distribution that affects model performance. Verifying data quality."
   ]
  },
  {
   "cell_type": "code",
   "execution_count": null,
   "id": "85a3f3c2",
   "metadata": {},
   "outputs": [],
   "source": [
    "4.Define the terms \"penalty\" and \"reward\" in the context of reinforcement learning ?"
   ]
  },
  {
   "cell_type": "markdown",
   "id": "663edbb2",
   "metadata": {},
   "source": [
    "#ans.\n",
    "A Reinforcement Learning Algorithm, which may also be referred to as an agent, learns by interacting with its environment. The agent receives rewards by performing correctly and penalties for performing incorrectly. The agent learns without intervention from a human by maximizing its reward and minimizing its penalty."
   ]
  },
  {
   "cell_type": "code",
   "execution_count": null,
   "id": "d5acdacd",
   "metadata": {},
   "outputs": [],
   "source": [
    "5.Explain the term \"learning as a search\" ?"
   ]
  },
  {
   "cell_type": "markdown",
   "id": "8a19d20e",
   "metadata": {},
   "source": [
    "#ans.\n",
    " Learning can be viewed as a search through the space of all sentences in a concept description language for a sentence that best describes the data. Alternatively, it can be viewed as a search through all hypotheses in a hypothesis space."
   ]
  },
  {
   "cell_type": "code",
   "execution_count": null,
   "id": "5be8282e",
   "metadata": {},
   "outputs": [],
   "source": [
    "6. What are the various goals of machine learning? What is the relationship between these and human learning ?"
   ]
  },
  {
   "cell_type": "markdown",
   "id": "dfff2cfc",
   "metadata": {},
   "source": [
    "#ans.\n",
    "The Goal of machine learning, closely coupled with the goal of AI, is to achieve a through understanding about the nature of learning process (both human learning and other forms of learning), about the computational aspects of learning behaviors, and to implant the learning capability in computer systems.\n",
    "\n",
    "Humans have the ability to learn, however with the progress in artificial intelligence, machine learning has bec"
   ]
  },
  {
   "cell_type": "code",
   "execution_count": null,
   "id": "9dda61bf",
   "metadata": {},
   "outputs": [],
   "source": [
    "7. Illustrate the various elements of machine learning using a real-life illustration ?"
   ]
  },
  {
   "cell_type": "code",
   "execution_count": null,
   "id": "43e15b79",
   "metadata": {},
   "outputs": [],
   "source": [
    "#ans.\n",
    "he Various elements of the the Machine Learning are:\n",
    "\n",
    "Data\n",
    "Task\n",
    "Model\n",
    "Loss Function\n",
    "Learning Algorithm\n",
    "Evaluation"
   ]
  },
  {
   "cell_type": "code",
   "execution_count": null,
   "id": "984de03e",
   "metadata": {},
   "outputs": [],
   "source": [
    "8.Provide an example of the abstraction method ?"
   ]
  },
  {
   "cell_type": "markdown",
   "id": "7e97ea55",
   "metadata": {},
   "source": [
    "#ans.\n",
    " In Machine Learning, Abstraction is supported primarily at the level of modules. This can be justified in two ways: first, Data abstraction is mostly a question of program interfaces and therefore it arises naturally at the point where we have to consider program composition and modules"
   ]
  },
  {
   "cell_type": "code",
   "execution_count": null,
   "id": "7933e698",
   "metadata": {},
   "outputs": [],
   "source": [
    "9.What is the concept of generalization? What function does it play in the machine learning process ?"
   ]
  },
  {
   "cell_type": "markdown",
   "id": "048ef482",
   "metadata": {},
   "source": [
    "#ns.\n",
    " Generalization refers to your model's ability to adapt properly to new, previously unseen data, drawn from the same distribution as the one used to create the model.\n",
    "\n",
    "In machine learning, generalization is a definition to demonstrate how well is a trained model to classify or forecast unseen data.This issue can result to classify an actual dog image as a cat from the unseen dataset. Therefore, data diversity is very important factor in order to make a good prediction."
   ]
  },
  {
   "cell_type": "code",
   "execution_count": null,
   "id": "be62070c",
   "metadata": {},
   "outputs": [],
   "source": [
    "10.What is classification, exactly? What are the main distinctions between classification and regression ?"
   ]
  },
  {
   "cell_type": "markdown",
   "id": "faca9fa7",
   "metadata": {},
   "source": [
    "#ans.\n",
    "In Machine Learning, Classification refers to a predictive modeling problem where a class label is predicted for a given example of input data.Classification is the task of predicting a discrete class label. Whereas Regression is the task of predicting a continuous quantity."
   ]
  },
  {
   "cell_type": "code",
   "execution_count": null,
   "id": "4fe2af9c",
   "metadata": {},
   "outputs": [],
   "source": [
    "11.What is regression, and how does it work? Give an example of a real-world problem that was solved using regression ?"
   ]
  },
  {
   "cell_type": "markdown",
   "id": "e45917b8",
   "metadata": {},
   "source": [
    "#ans.\n",
    "Regression is a Supervised Machine Learning technique which is used to predict continuous values. The ultimate goal of a regression algorithm is to plot a best-fit line or a curve between the data.\n",
    "\n",
    "The three main metrics that are used for evaluating the trained regression model are Variance, Bias and Error.\n",
    "\n",
    "A simple linear regression real life example could mean you finding a relationship between the revenue and temperature, with a sample size for revenue as the dependent variable. In case of multiple variable regression, you can find the relationship between temperature, pricing and number of workers to the revenue."
   ]
  },
  {
   "cell_type": "code",
   "execution_count": null,
   "id": "a8df5ca7",
   "metadata": {},
   "outputs": [],
   "source": [
    "12. Describe the clustering mechanism in detail ?"
   ]
  },
  {
   "cell_type": "markdown",
   "id": "2a58a9e5",
   "metadata": {},
   "source": [
    "#ans.\n",
    "Clustering is the task of dividing the population or data points into a number of groups such that data points in the same groups are more similar to other data points in the same group than those in other groups. In simple words, the aim is to segregate groups with similar traits and assign them into clusters."
   ]
  },
  {
   "cell_type": "code",
   "execution_count": null,
   "id": "27c5e757",
   "metadata": {},
   "outputs": [],
   "source": [
    "13. Make brief observations on two of the following topics ?"
   ]
  },
  {
   "cell_type": "markdown",
   "id": "2c7f51cf",
   "metadata": {},
   "source": [
    "#ans.\n",
    "The breif observations on the following two topics is:\n",
    "\n",
    "Machine learning algorithms are used: At its Most basic, Machine Learning uses programmed algorithms that receive and analyse input data to predict output values within an acceptable range. As new data is fed to these algorithms, they learn and optimise their operations to improve performance, developing intelligence over time.\n",
    "\n",
    "Studying Under Supervision: In machine learning, there are two important categories- Supervised and Unsupervised learning.Supervised learning, an algorithm learns from a training dataset. We know the correct answers or desired output, the algorithm makes predictions using the given dataset and is corrected by the “supervisor”"
   ]
  },
  {
   "cell_type": "code",
   "execution_count": null,
   "id": "d31b03b3",
   "metadata": {},
   "outputs": [],
   "source": []
  },
  {
   "cell_type": "code",
   "execution_count": null,
   "id": "72aab68d",
   "metadata": {},
   "outputs": [],
   "source": []
  },
  {
   "cell_type": "code",
   "execution_count": null,
   "id": "cbd90535",
   "metadata": {},
   "outputs": [],
   "source": []
  },
  {
   "cell_type": "code",
   "execution_count": null,
   "id": "bd1ac1b2",
   "metadata": {},
   "outputs": [],
   "source": []
  },
  {
   "cell_type": "code",
   "execution_count": null,
   "id": "d43c780b",
   "metadata": {},
   "outputs": [],
   "source": []
  }
 ],
 "metadata": {
  "kernelspec": {
   "display_name": "Python 3 (ipykernel)",
   "language": "python",
   "name": "python3"
  },
  "language_info": {
   "codemirror_mode": {
    "name": "ipython",
    "version": 3
   },
   "file_extension": ".py",
   "mimetype": "text/x-python",
   "name": "python",
   "nbconvert_exporter": "python",
   "pygments_lexer": "ipython3",
   "version": "3.9.7"
  }
 },
 "nbformat": 4,
 "nbformat_minor": 5
}
